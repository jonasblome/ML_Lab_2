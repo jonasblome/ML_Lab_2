{
 "cells": [
  {
   "cell_type": "code",
   "execution_count": 5,
   "id": "7cce7c17",
   "metadata": {
    "scrolled": true
   },
   "outputs": [
    {
     "name": "stdout",
     "output_type": "stream",
     "text": [
      "Final RMSE: 7.332915607584343\n"
     ]
    },
    {
     "data": {
      "text/plain": [
       "[<matplotlib.lines.Line2D at 0x14361b45490>]"
      ]
     },
     "execution_count": 5,
     "metadata": {},
     "output_type": "execute_result"
    },
    {
     "data": {
      "image/png": "[encoded data removed]",
      "text/plain": [
       "<Figure size 432x288 with 1 Axes>"
      ]
     },
     "metadata": {
      "needs_background": "light"
     },
     "output_type": "display_data"
    }
   ],
   "source": [
    "# To be able to process polynomials of any complexity,\n",
    "# it is advisable to store the coefficients k0, k1 ... kn of a polynomial in a vector.\n",
    "# Generate random coefficients for about 10000 different 2nd order polynomials\n",
    "# and visualize the polynomial which best approximates the data (has the lowest RMSE value).\n",
    "# Find meaningful ranges for the randomly generated coefficients (e.g. k0 between 0 and 100,\n",
    "# k1 between -0.00001 and +0.00001, k2 between -0.00000001 and +0.00000001).\n",
    "\n",
    "# Import external libraries\n",
    "import matplotlib.pyplot as plt\n",
    "import math\n",
    "import numpy as np\n",
    "import random\n",
    "\n",
    "# Enable inline plotting\n",
    "%matplotlib inline\n",
    "\n",
    "# Import the CSV file\n",
    "nations = np.genfromtxt(\"nations.csv\", delimiter=\",\", skip_header=True)\n",
    "\n",
    "# Label graph plot\n",
    "plt.xlabel(\"GDP per capita\")\n",
    "plt.ylabel(\"Average life expectancy\")\n",
    "\n",
    "# Calculate GDP per capita for each country\n",
    "gdp = nations[:,3] * 1000000\n",
    "gdppc = gdp\n",
    "\n",
    "for i in range(len(gdp)):\n",
    "    gdppc[i] = gdp[i] / nations[i, 6]\n",
    "\n",
    "# Plot average life expectancy over GPD per capita\n",
    "plt.plot(gdppc, nations[:,4], \"ob\")\n",
    "\n",
    "# Approximate relation with polinomial\n",
    "gdppcVector = np.expand_dims(gdppc, axis=0)\n",
    "exponentsVector = np.expand_dims(np.arange(0,3), axis=1)\n",
    "gdppcToThePowerOfExponentMatrix = np.power(gdppcVector, exponentsVector)\n",
    "\n",
    "# Find polynomial with lowest rmse\n",
    "smallestRMSE = 1000\n",
    "bestCoefficients = []\n",
    "\n",
    "# Try 10000 different random coefficients to find best ones\n",
    "for j in range(10000):\n",
    "    # Generate random coefficients\n",
    "    coefficients = np.expand_dims(np.array([random.uniform(0, 100),\n",
    "                                            random.uniform(-0.001, 0.001),\n",
    "                                            random.uniform(-0.000001, 0.000001)]),\n",
    "                                  axis=1)\n",
    "    \n",
    "    #Calculate approximated life expectancy values with 2nd order polynomial\n",
    "    lifeExpectancyPolynomialApproximation = np.matmul(gdppcToThePowerOfExponentMatrix.transpose(), coefficients)\n",
    "    lifeExpectancyPolynomialApproximation = np.squeeze(lifeExpectancyPolynomialApproximation)\n",
    "\n",
    "    # Calculate and output RMSE value\n",
    "    squareErrorSum = np.sum(np.power(lifeExpectancyPolynomialApproximation - nations[:, 4], 2))\n",
    "\n",
    "    mse = squareErrorSum / len(nations[:,4])\n",
    "\n",
    "    rmse = math.sqrt(mse)\n",
    "    \n",
    "    # Check if current RMSE is the smallest\n",
    "    if(rmse < smallestRMSE):\n",
    "        smallestRMSE = rmse\n",
    "        bestCoefficients = coefficients\n",
    "\n",
    "# Print final RMSE value\n",
    "print(\"Final RMSE: {}\".format(smallestRMSE))\n",
    "\n",
    "# Make bestCoefficients an array\n",
    "bestCoefficients = np.squeeze(bestCoefficients)\n",
    "\n",
    "# Return y value for polynomial with provided coefficients\n",
    "def polynomialFunction(x, coefficients):\n",
    "    y = 0\n",
    "    for e in range(len(coefficients)):\n",
    "        y = y + coefficients[e] * np.power(x, e)\n",
    "    \n",
    "    return y\n",
    "\n",
    "# Plotting the polynomial approximation\n",
    "xValues = np.arange(0.0, 140000.0, 100.0)\n",
    "plt.plot(xValues, polynomialFunction(xValues, bestCoefficients), color = \"red\")"
   ]
  },
  {
   "cell_type": "code",
   "execution_count": null,
   "id": "397c23a9",
   "metadata": {},
   "outputs": [],
   "source": []
  },
  {
   "cell_type": "code",
   "execution_count": null,
   "id": "92de8fd5",
   "metadata": {},
   "outputs": [],
   "source": []
  },
  {
   "cell_type": "code",
   "execution_count": null,
   "id": "de247499",
   "metadata": {},
   "outputs": [],
   "source": []
  }
 ],
 "metadata": {
  "kernelspec": {
   "display_name": "Python 3 (ipykernel)",
   "language": "python",
   "name": "python3"
  },
  "language_info": {
   "codemirror_mode": {
    "name": "ipython",
    "version": 3
   },
   "file_extension": ".py",
   "mimetype": "text/x-python",
   "name": "python",
   "nbconvert_exporter": "python",
   "pygments_lexer": "ipython3",
   "version": "3.9.7"
  }
 },
 "nbformat": 4,
 "nbformat_minor": 5
}
